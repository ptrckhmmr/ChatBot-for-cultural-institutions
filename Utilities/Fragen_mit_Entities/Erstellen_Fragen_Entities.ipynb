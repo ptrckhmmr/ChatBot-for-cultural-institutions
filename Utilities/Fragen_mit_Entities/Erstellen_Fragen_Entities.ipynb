{
 "cells": [
  {
   "cell_type": "code",
   "execution_count": 1,
   "metadata": {},
   "outputs": [],
   "source": [
    "import pandas as pd\n",
    "import json"
   ]
  },
  {
   "cell_type": "markdown",
   "metadata": {},
   "source": [
    "# Get data from data base"
   ]
  },
  {
   "cell_type": "code",
   "execution_count": 2,
   "metadata": {},
   "outputs": [],
   "source": [
    "# import data from csv\n",
    "data = pd.read_csv('./data/zkm_export_exhibition.csv', error_bad_lines=False, warn_bad_lines=False, encoding='utf-8')"
   ]
  },
  {
   "cell_type": "code",
   "execution_count": 3,
   "metadata": {},
   "outputs": [
    {
     "data": {
      "text/plain": [
       "array(['id', 'publiziert', 'titel_de', 'titel_en', 'untertitel_de',\n",
       "       'untertitel_en', 'ausstellung_art', 'event_subcategory',\n",
       "       'teil_von', 'start_tag', 'start_zeit', 'ende_tag', 'ende_zeit',\n",
       "       'bild_buehne_teaser', 'va_ort', 'va_ort_filter', 'zielgruppe',\n",
       "       'website_url_text_de', 'website_url_text_en',\n",
       "       'website_link_url_de', 'website_link_url_en', 'beschreibung_de',\n",
       "       'beschreibung_en', 'url_text_de', 'url_text_en',\n",
       "       'verknuepfung_pdfs', 'schlagwoerter', 'kurzbeschreibung_seo_de',\n",
       "       'kurzbeschreibung_seo_en', 'orga_institution', 'orga_abteilung',\n",
       "       'impressum_feste_rolle_de', 'impressum_feste_rolle_en',\n",
       "       'person_feste_rolle', 'weitere_personen_de', 'weitere_personen_en',\n",
       "       'impressum_freie_rolle_de', 'impressum_freie_rolle_en',\n",
       "       'person_freie_rolle', 'person_freie_rolle_en', 'sponsoren_de',\n",
       "       'sponsoren_en', 'kooppartner_de', 'kooppartner_en',\n",
       "       'verknuepfung_werke', 'verknuepfung_events',\n",
       "       'verknuepfung_publikationen', 'verknuepfung_themen',\n",
       "       'verknuepfung_projekte', 'verknuepfung_video',\n",
       "       'verknuepfung_audio'], dtype=object)"
      ]
     },
     "execution_count": 3,
     "metadata": {},
     "output_type": "execute_result"
    }
   ],
   "source": [
    "# check columns\n",
    "data.columns.values"
   ]
  },
  {
   "cell_type": "markdown",
   "metadata": {},
   "source": [
    "# Define Entities"
   ]
  },
  {
   "cell_type": "code",
   "execution_count": 4,
   "metadata": {},
   "outputs": [],
   "source": [
    "entities = data['titel_de']"
   ]
  },
  {
   "cell_type": "code",
   "execution_count": 5,
   "metadata": {},
   "outputs": [
    {
     "data": {
      "text/plain": [
       "'Mapping Spaces'"
      ]
     },
     "execution_count": 5,
     "metadata": {},
     "output_type": "execute_result"
    }
   ],
   "source": [
    "entities[1]"
   ]
  },
  {
   "cell_type": "markdown",
   "metadata": {},
   "source": [
    "# Exclude entities that contain certain characters"
   ]
  },
  {
   "cell_type": "markdown",
   "metadata": {},
   "source": [
    "Fehlermeldung: Missing label for {} at position {}.format(key,idx)"
   ]
  },
  {
   "cell_type": "code",
   "execution_count": 6,
   "metadata": {},
   "outputs": [],
   "source": [
    "entities = entities[~entities.str.contains('\\[')]"
   ]
  },
  {
   "cell_type": "code",
   "execution_count": 7,
   "metadata": {},
   "outputs": [],
   "source": [
    "entities = entities[~entities.str.contains('\\]')]"
   ]
  },
  {
   "cell_type": "markdown",
   "metadata": {},
   "source": [
    "Fehlermeldung: invalid_index_name_exception"
   ]
  },
  {
   "cell_type": "code",
   "execution_count": 8,
   "metadata": {},
   "outputs": [],
   "source": [
    "entities = entities[~entities.str.contains('\\|')]"
   ]
  },
  {
   "cell_type": "markdown",
   "metadata": {},
   "source": [
    "# Question generation"
   ]
  },
  {
   "cell_type": "code",
   "execution_count": 9,
   "metadata": {},
   "outputs": [],
   "source": [
    "entity_name = \"exhibition\""
   ]
  },
  {
   "cell_type": "code",
   "execution_count": 10,
   "metadata": {},
   "outputs": [],
   "source": [
    "questions = pd.read_csv('./augmented/train_exhibition_description_augmented.txt', header=None)"
   ]
  },
  {
   "cell_type": "code",
   "execution_count": 11,
   "metadata": {},
   "outputs": [
    {
     "data": {
      "text/plain": [
       "0                  Was zeigt die Ausstellung EXHIBITION?\n",
       "1                                  Was zeigt EXHIBITION?\n",
       "2           Was zeigt ihr in der Ausstellung EXHIBITION?\n",
       "3                           Was zeigt ihr in EXHIBITION?\n",
       "4                            Kurzbeschreibung EXHIBITION\n",
       "5                                      Inhalt EXHIBITION\n",
       "6                                Beschreibung EXHIBITION\n",
       "7            Kurzbeschreibung der Ausstellung EXHIBITION\n",
       "8                      Inhalt der Ausstellung EXHIBITION\n",
       "9                Beschreibung der Ausstellung EXHIBITION\n",
       "10                    Was ist der Inhalt von EXHIBITION?\n",
       "11                   Was hat es mit EXHIBITION auf sich?\n",
       "12      Was zeigt das zkm in der Ausstellung EXHIBITION?\n",
       "13               Was wird vom zkm in EXHIBITION gezeigt?\n",
       "14                       Was ist in EXHIBITION zu sehen?\n",
       "15                    Was ist in EXHIBITION ausgestellt?\n",
       "16                        Was ist in EXHIBITION gezeigt?\n",
       "17                   Was wird in EXHIBITION ausgestellt?\n",
       "18                   Was wird in EXHIBITION ausgestellt?\n",
       "19                     Was kann ich in EXHIBITION sehen?\n",
       "20                 Was kann ich in EXHIBITION  angucken?\n",
       "21              Was kann ich mir in EXHIBITION angucken?\n",
       "22                      Was erwartet mich in EXHIBITION?\n",
       "23           Auf was kann ich mich in EXHIBITION freuen?\n",
       "24       Auf was kann ich mich in EXHIBITION einstellen?\n",
       "25                    Was ist der Inhalt von EXHIBITION?\n",
       "26                        Welchen Inhalt hat EXHIBITION?\n",
       "27                      Welchen Inhalt zeigt EXHIBITION?\n",
       "28              Was ist EXHIBITION für eine Ausstellung?\n",
       "29        Was ist in der Austellung EXHIBITION zu sehen?\n",
       "                             ...                        \n",
       "414           Was igbt es denn in EXHIBITION anzugucken?\n",
       "415    Aws aknn ich mir unter der Ausstellung EXHIBIT...\n",
       "416    Was muss ich mir nuter der Ausstellung EXHIBIT...\n",
       "417            Was gibt’s in der Ausstellung EXHIBITION?\n",
       "418    Was gibts denn in edr Ausstellung EXHIBITION z...\n",
       "419    Was gibt es ednn in der Ausstellung EXHIBITION...\n",
       "420    Was gibts ednn in der Austsellugn EXHIBITION a...\n",
       "421    Was gibt es denn in dre Ausstellung EXHIBITION...\n",
       "422    Was habt ihr in edr Ausstellung EXHIBITION aus...\n",
       "423              Was habt ihr in EXHIBITION ausgestellt?\n",
       "424                       Welche Nihlate hat EXHIBITION?\n",
       "425       Welhce Inhalte hat die Ausstellung EXHIBITION?\n",
       "426                 Aws sind die Inhalte von EXHIBITION?\n",
       "427    Was sind die Inhalte ovn der Austellung EXHIBI...\n",
       "428      Was sind die Inahlte der Austellung EXHIBITION?\n",
       "429    Kann ich irgendwo nachlesen was es in EXHIBITI...\n",
       "430    Kann ich irgendwo nachlesen wsa es in der Auss...\n",
       "431     Wo kann ich nachelsne was es in EXHIBITION gibt?\n",
       "432    Wo kann cih nachlesen was es in der Austsellug...\n",
       "433    Wo finde cih Inforamtioenn darüber was der Inh...\n",
       "434    Wo finde ich Infos daürüer was der Inhalt ovn ...\n",
       "435    Wo fnide ich Infos darüber was edr Inhalt der ...\n",
       "436    Wo finde ich Informationen über die Ihnlate vn...\n",
       "437    Wo ifnde ich Informationen übre dei Inhalte de...\n",
       "438    Wo finde cih Informationen übre die Inhalte vo...\n",
       "439    Wo kann ich Informationen zu den Nihaletn von ...\n",
       "440    Wo kann ich Informationen zu dne Inhalten von ...\n",
       "441    Wo kann ihc Informationen zu edn Inhalten der ...\n",
       "442                 Niforamtinoen Ausstellung EXHIBITION\n",
       "443                             Informationen EXHIBITION\n",
       "Name: 0, Length: 444, dtype: object"
      ]
     },
     "execution_count": 11,
     "metadata": {},
     "output_type": "execute_result"
    }
   ],
   "source": [
    "questions[0]"
   ]
  },
  {
   "cell_type": "code",
   "execution_count": 12,
   "metadata": {},
   "outputs": [],
   "source": [
    "def entity_block(entity,entity_name):\n",
    "    \"\"\"\n",
    "    This function creates an entity block according to the mindmeld structure\n",
    "    \"\"\"\n",
    "    return \"{\" + entity + '|' + entity_name + '}'"
   ]
  },
  {
   "cell_type": "code",
   "execution_count": 13,
   "metadata": {},
   "outputs": [],
   "source": [
    "def replacePlaceholder(sentence,placeholder,substitute):\n",
    "    \"\"\"\n",
    "    Replace the placeholder in the sample questions with entities from data base\n",
    "    \"\"\"\n",
    "    return sentence.replace(placeholder,substitute)"
   ]
  },
  {
   "cell_type": "code",
   "execution_count": 14,
   "metadata": {},
   "outputs": [],
   "source": [
    "# creating entity block with entity and entity name for every entity\n",
    "entity_exhibition = [entity_block(entity,entity_name) for entity in entities]\n",
    "\n",
    "# optional: generation random sample\n",
    "import random\n",
    "#entity_exhibition = random.sample(entity_exhibition,1)"
   ]
  },
  {
   "cell_type": "code",
   "execution_count": 15,
   "metadata": {},
   "outputs": [],
   "source": [
    "# define placeholder\n",
    "placeholder = 'EXHIBITION'"
   ]
  },
  {
   "cell_type": "code",
   "execution_count": 16,
   "metadata": {},
   "outputs": [],
   "source": [
    "# generate sentences containing a random entity block\n",
    "sentences_with_entities = [replacePlaceholder(question,placeholder,entity)\n",
    "                           for question in questions[0]\n",
    "                           for entity in random.sample(entity_exhibition,1)]"
   ]
  },
  {
   "cell_type": "code",
   "execution_count": 17,
   "metadata": {},
   "outputs": [
    {
     "name": "stdout",
     "output_type": "stream",
     "text": [
      "['Was zeigt die Ausstellung {AppArtAward 2015 – Highlights|exhibition}?', 'Was zeigt {Julian Rosefeldt: Trilogie des Scheiterns (Teil 3)|exhibition}?', 'Was zeigt ihr in der Ausstellung {Jean-Jacques Lebel. The Highest of All the Arts is Insurrection|exhibition}?', 'Was zeigt ihr in {Experimenta+|exhibition}?', 'Kurzbeschreibung {Renata Sas, Claudius Böhm: Learning to Be a Tourist|exhibition}', 'Inhalt {Collecting Sounds|exhibition}', 'Beschreibung {Helmut Heißenbüttel: schreiben sammeln senden|exhibition}', 'Kurzbeschreibung der Ausstellung {Die algorithmische Revolution|exhibition}', 'Inhalt der Ausstellung {Sabine Schäfer und Joachim Krebs: Sonic Lines n’ Rooms Nr. 7|exhibition}', \"Beschreibung der Ausstellung {Michael Kunze: Messieurs d'Avignon|exhibition}\", 'Was ist der Inhalt von {Der diskrete Charme der Technologie|exhibition}?', 'Was hat es mit {<SA/JO>: MicroSonical Shining Biospheres No. 1, 2009|exhibition} auf sich?', 'Was zeigt das zkm in der Ausstellung {Klaus vom Bruch: Ausgewählte Videos|exhibition}?', 'Was wird vom zkm in {Bense und die Künste|exhibition} gezeigt?', 'Was ist in {Uncharted: User Frames in Media Arts|exhibition} zu sehen?', 'Was ist in {Harmony of Clash|exhibition} ausgestellt?', 'Was ist in {Mathematik zum Anfassen|exhibition} gezeigt?', 'Was wird in {Werner Büttner: Gemeine Wahrheiten|exhibition} ausgestellt?', 'Was wird in {Experiments in Art and Technology|exhibition} ausgestellt?', 'Was kann ich in {Web of Life|exhibition} sehen?', 'Was kann ich in {Edmund Kuppel: Projektionen 1970–2010|exhibition}  angucken?', 'Was kann ich mir in {Diffusion per Vidéo|exhibition} angucken?', 'Was erwartet mich in {Vidéo Vintage 1963-1983|exhibition}?', 'Auf was kann ich mich in {Schl@gfertige Typen|exhibition} freuen?', 'Auf was kann ich mich in {Stadtleuchten|exhibition} einstellen?', 'Was ist der Inhalt von {The Berkeley Oracle - Fragen ohne Antwort|exhibition}?', 'Welchen Inhalt hat {ARTE und ZKM präsentieren: Alles für die Kunst|exhibition}?', 'Welchen Inhalt zeigt {ZKM_Gameplay|exhibition}?', 'Was ist {Testevent (Ausstellung, archiviert)|exhibition} für eine Ausstellung?', 'Was ist in der Austellung {Nicole Blaffert: Helga and Werner in KA. Besirat Tesfay: Digital Drawings|exhibition} zu sehen?', 'Was ist in der Ausstellung {2xGOLDSTEIN: Im Zustand wie gesehen|exhibition} ausgestellt?', 'Was ist in der Ausstellung {Blaffert & Wamhof: JHQ Rheindahlen|exhibition} gezeigt?', 'Was wird in der Ausstellung {The Global Contemporary|exhibition} ausgestellt?', 'Was wird in der Ausstellung {Neuzugänge der ZKM-Sammlung: Werke von Concha Jerez und José Iges|exhibition} ausgestellt?', 'Was kann ich in der Ausstellung {Bill Bollinger: Die Retrospektive|exhibition} sehen?', 'Was kann ich in der Ausstellung {Shane Cooper: Parasight|exhibition}  angucken?', 'Was kann ich mir in der Ausstellung {Ruth Vollmer & Gego: Thinking the Line|exhibition} angucken?', 'Was erwartet mich in der Ausstellung {Milan Grygar. Sound on Paper|exhibition}?', 'Auf was kann ich mich in der Ausstellung {Fast Forward|exhibition} freuen?', 'Auf was kann ich mich in der Ausstellung {Future Cinema|exhibition} einstellen?', 'Was ist der Inhalt von der Ausstellung {Hybrid Layers|exhibition}?', 'Welchen Inhalt hat die Ausstellung {Gianfranco Baruchello. Certain Ideas|exhibition}?', 'Welchen Inhalt zeigt die Ausstellung {Bernhard Leitner: Akustische Architektur|exhibition}?', 'Was ist die Ausstellung {Oliver Augst & Christoph Korn: Volksliedmaschine|exhibition} für eine Ausstellung?', 'Was zeigt ihr bei {Boris Petrovsky: Wünschelmatrix|exhibition}?', 'Was zeigt ihr bei der Ausstellung {Frédéric Chaubin: CCCP|exhibition}?', 'Was zeigt ihr während {Shane Cooper: Parasight|exhibition}?', 'Was zeigt ihr während der Ausstellung {Screening War|exhibition}?', 'Was führt {Molecules that Changed The World|exhibition}?', 'Was führt die Ausstellung {Bense und die Künste|exhibition}?', 'Was führt ihr in der Ausstellung {cITy –\\xa0\\\\\\\\internationaler\\\\medien\\\\kunst\\\\preis 2000|exhibition}?', 'Was führt ihr in {Elektrisieren|exhibition}?', 'Was führt das zkm in der Ausstellung {Konrad Balder Schäuffelen: sprache ist fuer wahr ein koerper |exhibition}?', 'Was führt das zkm in {just what is it...|exhibition}?', 'Kannst du mir eine Kurzbeschreibung von {Michael Kosakowski: Fortynine Inside|exhibition} geben?', 'Kannst du mir eine Kurzbeschreibung von {Schnittstelle Schreibtisch oder Wider ein Denken in Schubladen|exhibition} geben?', 'Kannst du mir eine Beschreibung von {Experiments in Art and Technology|exhibition} geben?', 'Können Sie mir eine Beschreibung von {Bollywoodscratches|exhibition} geben?', 'Ich hätte gerne eine Kurzbeschreibung von {Resonate|exhibition}.', 'Ich hätte gerne eine Beschreibung von {Seeing Time|exhibition}.', 'Können Sie mir eine kurze beschreibung von {Orgelpunktkommastrich|exhibition} geben?', 'Kannst du mir eine kurze beschreibung von {Klio|exhibition} geben?', 'Ich hätte gerne eine kurze beschreibung von {Bollywoodscratches|exhibition}.', 'Können Sie mir eine kurze beschreibung des Inhalts über {bilder*codes# 1992–2002|exhibition} geben?', 'Kannst du mir eine kurze beschreibung des Inhalts von {David Johnson: Gefangene Früchte,  Audio-Raum-Installation|exhibition} geben?', 'Ich hätte gerne eine kurze beschreibung des Inhalts von {Molecules that Changed The World|exhibition}.', 'Können Sie mir eine kurze beschreibung über {Imagination Becomes Reality|exhibition} geben?', 'Kannst du mir eine kurze beschreibung über {Better Books|exhibition} geben?', 'Ich hätte gerne eine kurze beschreibung über {Arbeiten von Simone Westerwinter and Pietro Sanguineti|exhibition}.', 'Können Sie mir eine Kurzbeschreibung über {Licht und Klang(sch)wellen|exhibition} geben?', 'Kannst du mir eine Kurzbeschreibung über {Obsessive Malerei|exhibition} geben?', 'Kannst du mir eine Beschreibung über {Katrin Jakobsen: Alles wird gut|exhibition} geben?', 'Können Sie mir eine Beschreibung über {Anny Öztürk: Superheroes|exhibition} geben?', 'Ich hätte gerne eine Kurzbeschreibung über {Martin Walde: Hallucigenia|exhibition}.', 'Ich hätte gerne eine Beschreibung zu {Elmgreen & Dragset: Celebrity|exhibition}.', 'Können Sie mir eine Kurzbeschreibung des Inhalts von {11. Marler Video Kunst Preis|exhibition} geben?', 'Kannst du mir eine Kurzbeschreibung des Inhalts von {robotlab: Juke_bots|exhibition} geben?', 'Kannst du mir eine Beschreibung des Inhalts von {Cube|exhibition} geben?', 'Können Sie mir eine Beschreibung des Inhalts von {The Name is BURROUGHS. Expanded Media|exhibition} geben?', 'Ich hätte gerne eine Kurzbeschreibung des Inhalts von {Sigmar Polke|exhibition}.', 'Ich hätte gerne eine Beschreibung des Inhalts von {Nam June Paik: Internet Dream|exhibition}.', 'Können Sie mir eine Kurzbeschreibung von der Ausstellung {Robert Darroll, Sean Reed: Orakel|exhibition} geben?', 'Kannst du mir eine Kurzbeschreibung von der Ausstellung {Medien Kunst Interaktion|exhibition} geben?', 'Kannst du mir eine Beschreibung von der Ausstellung {neuFundland II|exhibition} geben?', 'Können Sie mir eine Beschreibung von der Ausstellung {Olafur Eliasson: Surroundings Surrounded|exhibition} geben?', \"Ich hätte gerne eine Kurzbeschreibung von der Ausstellung {Perry Hoberman: Faraday's Garden|exhibition}.\", 'Ich hätte gerne eine Beschreibung für {Die Sinnlichkeit des Unsinnlichen|exhibition}.', 'Können Sie mir eine kurze beschreibung von der Ausstellung {Future Cinema|exhibition} geben?', 'Kannst du mir eine kurze beschreibung von {Bruce Nauman|exhibition} geben?', 'Ich hätte gerne eine kurze beschreibung von der Ausstellung {Stefan Nikolaev|exhibition}.', 'Können Sie mir eine kurze beschreibung des Inhalts von der Ausstellung {Gary Hill: Suspension of Disbelief|exhibition} geben?', 'Kannst du mir eine kurze beschreibung des Inhalts von der Ausstellung {Susanne Wagner|exhibition} geben?', 'Ich hätte gerne eine kurze beschreibung des Inhalts von der Ausstellung {Monitor 2 –\\xa0Siemens Medienkunstpreis 1995|exhibition}.', 'Können Sie mir eine kurze beschreibung über die Ausstellung {Jon Jost: Trinity|exhibition} geben?', 'Kannst du mir eine kurze beschreibung über die Ausstellung {Natur und Umwelt in Armenien|exhibition} geben?', 'Ich hätte gerne eine kurze beschreibung über die Ausstellung {Antonio Muntadas: Media Architecture Installations|exhibition}.', 'Können Sie mir eine Kurzbeschreibung über die Ausstellung {Inter-Facing the Archive|exhibition} geben?', 'Kannst du mir eine Kurzbeschreibung über die Ausstellung {The Global Contemporary|exhibition} geben?', 'Kannst du mir eine Beschreibung über die Ausstellung {Die Sinnlichkeit des Unsinnlichen|exhibition} geben?', 'Können Sie mir eine Beschreibung über die Ausstellung {Car Culture. Das Auto als Skulptur (Lentos)|exhibition} geben?', 'Ich hätte gerne eine Kurzbeschreibung über die Ausstellung {KlangLabyrinth|exhibition}.', 'Ich hätte gerne eine Beschreibung über die Ausstellung {Der kälteste Planet des Universums: Das menschliche Herz|exhibition}.', 'Können Sie mir eine Kurzbeschreibung des Inhalts von der Ausstellung {Landscape|exhibition} geben?', 'Kannst du mir eine Kurzbeschreibung des Inhalts von der Ausstellung {Ute Friedrike Jürß: Die Zeit hält den Atem an, 2007|exhibition} geben?', 'Kannst du mir eine Beschreibung des Inhalts von der Ausstellung {Klingende Elektronen|exhibition} geben?', 'Können Sie mir eine Beschreibung des Inhalts von der Ausstellung {Erwin Wurm|exhibition} geben?', 'Ich hätte gerne eine Kurzbeschreibung des Inhalts von der Ausstellung {Gary Hill: Suspension of Disbelief|exhibition}.', 'Ich hätte gerne eine Beschreibung des Inhalts von der Ausstellung {Night Vision|exhibition}.', 'Habt ihr eine Kurzbeschreibung von {Collecting Sounds|exhibition}?', 'Habt ihr eine Kurbeschreibung von {Ute Friederike Jürß: You Never Know the Whole Story|exhibition} für mich?', 'Habt ihr eine Kurzbeschreibung von der Ausstellung {Wermke/Leinkauf: Safe in the City|exhibition}?', 'Habt ihr eine Kurbeschreibung von der Ausstellung {Sensor. Zeitraum für junge Positionen_04|exhibition} für mich?', 'Was kann ich mir unter {Cross-border|exhibition} vorstellen?', 'Was muss ich mir unter {Das ZKM im Hallenbau|exhibition} vorstellen?', 'Was gibt’s in {Öffentlichkeit als Medium|exhibition}?', 'Was gibts denn in {Karlsruhe Multimedial. Moviemap Karlsruhe|exhibition} zu sehen?', 'Was gibt es denn in {Nam June Paik: Internet Dream|exhibition} zu sehen?', 'Was gibts denn in {Magnet|exhibition} anzugucken?', 'Was gibt es denn in {Schnittstelle Schreibtisch oder Wider ein Denken in Schubladen|exhibition} anzugucken?', 'Was kann ich mir unter der Ausstellung {Guy Debord|exhibition} vorstellen?', 'Was muss ich mir unter der Ausstellung {Nanni Balestrini: Wer das hir liest braucht sich vor nichts mehr zu fürchten|exhibition} vorstellen?', 'Was gibt’s in der Ausstellung {science + fiction|exhibition}?', 'Was gibts denn in der Ausstellung {Der Videoessay|exhibition} zu sehen?', 'Was gibt es denn in der Ausstellung {The DaimlerChrysler Collection|exhibition} zu sehen?', 'Was gibts denn in der Ausstellung {Chris Ziegler: Rickshaw Bangalore|exhibition} anzugucken?', 'Was gibt es denn in der Ausstellung {Ivan Faktor: Erstes Programm|exhibition} anzugucken?', 'Was habt ihr in der Ausstellung {Text/Ton|exhibition} ausgestellt?', 'Was habt ihr in {Johannes Goebel, Torsten Belschner, Bernhard Sturm: Musikschrank Rheingold|exhibition} ausgestellt?', 'Welche Inhalte hat {Jeffrey Shaw: Place-Ruhr, 2000. Place-Urbanity, 2002|exhibition}?', 'Welche Inhalte hat die Ausstellung {GLOBALE: Seismographic Sounds|exhibition}?', 'Was sind die Inhalte von {Bewegte Bilder. Elektronische Kunst|exhibition}?', 'Was sind die Inhalte von der Austellung {Herbert W. Franke: Wanderer zwischen den Welten|exhibition}?', 'Was sind die Inhalte der Austellung {Giuseppe Uncini|exhibition}?', 'Kann ich irgendwo nachlesen was es in {Anny Öztürk: Superheroes|exhibition} gibt?', 'Kann ich irgendwo nachlesen was es in der Ausstellung {Bill Bollinger: Die Retrospektive|exhibition} gibt?', 'Wo kann ich nachlesen was es in {Extended|exhibition} gibt?', 'Wo kann ich nachlesen was es in der Ausstellung {Im Buchstabenfeld|exhibition} gibt?', 'Wo finde ich Informationen darüber was der Inhalt von {Jan Rohlf/Maverick: Sweet Dreams Are Made Of This...|exhibition} ist?', 'Wo finde ich Infos darüber was der Inhalt von der Ausstellung {MUTation|exhibition} ist?', 'Wo finde ich Infos darüber was der Inhalt der Ausstellung {Stephan von Huene: Grenzgänger, Grenzverschieber|exhibition} ist?', 'Wo finde ich Informationen über die Inhalte von {Sensor. Zeitraum für junge Positionen_02|exhibition}?', 'Wo finde ich Informationen über die Inhalte der Ausstellung {Imagination Becomes Reality|exhibition}?', 'Wo finde ich Informationen über die Inhalte von der Ausstellung {YOU_ser|exhibition}?', 'Wo kann ich Informationen zu den Inhalten von {GLOBAL CONTROL AND CENSORSHIP |exhibition} finden?', 'Wo kann ich Informationen zu den Inhalten von der Ausstellung {Video/Ökonomie|exhibition} finden?', 'Wo kann ich Informationen zu den Inhalten der Ausstellung {PRÄSENTation|exhibition} finden?', 'Informationen Ausstellung {Video/Ökonomie|exhibition}', 'Informationen {Screening War (ZKMax)|exhibition}', 'Was zeigt die Ausstellung {Mathematik zum Anfassen|exhibition}?', 'Was ziegt {Better Books|exhibition}?', 'Aws zeigt ihr in der Ausstellung {Black Maria|exhibition}?', 'Was zeigt ihr in {Minimal Art|exhibition}?', 'Kurzbeshceiebugn {Bodenlos – Vilém Flusser und die Künste (Akademie der Künste, Berlin)|exhibition}', 'Inhlat {Henry Flynt|exhibition}', 'Beschreibung {La Rivoluzione Algoritmica|exhibition}', 'Kurzbeschreibung edr Ausstellung {Ira Schneider: From the beginning … –  Video total|exhibition}', 'Inhalt dre Ausstellung {Malcolm McLaren: The Casino of Authenticity and Karaoke|exhibition}', 'Beschreibung dre Ausstellung {Ed Sommer. Planetare Allianz|exhibition}', 'Wsa ist der Inhalt von {Mischa Kuball: ReMix/BrocaII (Letters/Numbers)|exhibition}?', 'Was aht es mit {Deleuze und die Künste|exhibition} auf sich?', 'Was zeigt das zmk in dre Ausstellung {Hans Kupelwieser|exhibition}?', 'Was wrid vom zkm in {Titel|exhibition} gezeigt?', 'Was ist in {Jürgen Klauke: Ästhetische Paranoia|exhibition} zu eshen?', 'Was ist in {Current|exhibition} ausgestellt?', 'Was ist in {Lichtkunst aus Kunstlicht|exhibition} gezeigt?', 'Was wird in {Achim Stößer: Computergraphiken und Animationen|exhibition} ausgestellt?', 'Was wird in {GLOBALE: Exo-Evolution|exhibition} ausgestellt?', 'Was kann ich in {Schnittstelle Schreibtisch oder Wider ein Denken in Schubladen|exhibition} eshen?', 'Was aknn ich in {Reinhard Döhl: Alles ist möglich. Alles ist erlaubt. |exhibition}  angucken?', 'Was kann ich mri in {Susanne Wagner|exhibition} angucken?', 'Was erwartet mich in {Resonanzen. 40 Jahre Kunststiftung Baden-Württemberg|exhibition}?', 'Uaf was kann ich mich in {Edmund Kuppel: Projektionen 1970–2010|exhibition} freuen?', 'Auf was kann ich mihc in {Sounds|exhibition} einstellen?', 'Was ist der Inhlat von {Peter Weibel: Sozialmatrix|exhibition}?', 'Welchen Inhalt hat {Ivan Faktor: Erstes Programm|exhibition}?', 'Welchen Inhlat zeigt {Eran Schaerf: Die Stimme des Hörers|exhibition}?', 'Was ist {Hiroshi Kawano. Der Philosoph am Computer|exhibition} für eine Ausstlelnug?', 'Was ist in der Uastlelung {GLOBALE: Programm|exhibition} zu sehen?', 'Was sit in edr Ausstellung {Libelli|exhibition} ausgestellt?', 'Was ist in der Ausstellngn {Milan Grygar. Sound on Paper|exhibition} gezeitg?', 'Was wird in der Ausstellung {Bruce Nauman|exhibition} augsestellt?', 'Was wird in der Ausstellung {CloudBrowsing|exhibition} ausgseetllt?', 'Aws kann ich in der Ausstellung {Chris Ziegler: Rickshaw Bangalore|exhibition} sehen?', 'Was kann ich in der Ausstellung {Atlas. How To Carry The World On One’s Back?|exhibition}  ngnucken?', 'Was kann ich mir in der Asustlllung {Dieter Hacker: Alle Macht den Amateuren|exhibition} angucken?', 'Was erwartet mich in der Asustellnug {Konrad Balder Schäuffelen: sprache ist fuer wahr ein koerper |exhibition}?', 'Auf wsa kann ich mich in der Ausstellung {RECORD > AGAIN! (Dresden)|exhibition} ferune?', 'Uaf was kann ich mich in dre Ausstellung {Nam June Paik: Internet Dream|exhibition} einstellen?', 'Was ist der Inhalt von der Austetllnug {Faster! Bigger! Better! light|exhibition}?', 'Welchen Inhalt hta die Ausstellung {Nanni Balestrini: Wer das hir liest braucht sich vor nichts mehr zu fürchten|exhibition}?', 'Welchen Inhalt zeigt die Aussetlulgn {Erwin Wurm|exhibition}?', 'Wsa its die Ausstellung {Sigmar Polke|exhibition} für eine Ausstellung?', 'Wsa zeigt ihr bei {Martin Kippenberger: Schattenspiel im Zweigwerk|exhibition}?', 'Was zeigt ihr bei edr Ausstellung {Molecules that Changed the World|exhibition}?', 'Wsa zeigt ihr während {Bill Viola: Stations|exhibition}?', 'Wsa zeigt ihr während der Ausstellung {Notation|exhibition}', 'Was fühtr {Mienenspiele / About Faces|exhibition}?', 'Was fhürt die Ausstellung {Paul M. Smith: My Round|exhibition}?', 'Was führt irh in der Ausstellung {Nicolas Collins: Truth in Clouds|exhibition}?', 'Was führt irh in {Bazon Brock: Lustmarsch durchs Theoriegelände|exhibition}?', 'Was führt das zkm in dre Ausstellung {Ingeborg Lüscher: Die andere Seite|exhibition}?', 'Wsa führt das zkm in {Klingende Elektronen|exhibition}?', 'Kannst du mir eine Kurzbeschreibung ovn {Imagining Media@ZKM|exhibition} geben?', 'Kannst du mir eien Krubzsehcreibung von {Video/Ökonomie|exhibition} geben?', 'Kannts du mir eien Beschreibung von {Sigmar Polke|exhibition} geben?', 'Können Sie mir eine Beschrebibgn von {Coolhunters|exhibition} geben?', 'Ich hätte gerne eine Kuzrbeschreiungn von {Anny Öztürk: Superheroes|exhibition}.', 'Ich hätte gerne iene Ebcshreibung von {Die Skulptur im Video|exhibition}.', 'Können Sie imr iene kurze beschreibung von {Golo Föllmer: net_musician|exhibition} geben?', 'Kannst du mir eien kurze ebcshreibnug von {Vertrautes Terrain|exhibition} geben?', 'Ich hätte gerne eine kurze beschreibung vno {Das ZKM im Hallenbau. Entwurf und Baustelle|exhibition}.', 'Können Sie imr eine ukrze beschreibung des Inhalts über {videoUNDERground|exhibition} gebe?n', 'Kannts du mri eine kurze beschreibung des Inhalts von {Black Maria|exhibition} geben?', 'Cih hätte gerne eine kurze bsechrebubng des Ihnatls von {Sounds|exhibition}.', 'Können Sie mir enie kurze beschreibung über {<SA/JO>: MicroSonical Shining Biospheres No. 1, 2009|exhibition} geben?', 'Kannst du mir eien kurze beschreibung büer {Golo Föllmer, Gívan Belá: Vanricio Kagol II|exhibition} geben?', 'Cih hätte egrne eine kurze beschreibung über {Apichatpong Weerasethakul: Emerald/Morakot, 2007|exhibition}.', 'Können Sie imr eine Kurzbeschreibung über {Dieter Meier: Works 1969–2011 and the YELLO Years|exhibition} geben?', 'Kannst du mir eine Ukrzbseshreiubng über {Robert Darroll, Sean Reed: Orakel|exhibition} geben?', 'Kannst du imr eine Beschreibung über {Gerhard Johann Lischka|exhibition} geben?', 'Können Sie mir iene Beschreibung über {Circles 1–5|exhibition} gbeen?', 'Ich hätte egrne eine Ukrzbescheriubgn über {Das digitale Bauhaus|exhibition}.', 'Cih hätte egrne eine Beschreibung zu {Daniel García Andújar: Let’s Democratise Democracy|exhibition}.', 'Können Ise mir enie Kuzrebscheribung des Inhalts von {Von Hertz zum Handy|exhibition} geben?', 'Kannst du mir eine Kuzrbsecrhebiung des Nihalts von {Susanne Wagner|exhibition} geben?', 'Kansnt du mir eine Beshcheibugn des Inhalts ovn {Peter Weibel: Sozialmatrix|exhibition} geben?', 'Können Sie mri eine Beschreibung des Inahlst vno {Die 50 Besten 2004|exhibition} geben?', 'Ich hätte gerne enie Ukrzbscshreibnug des Inhalts von {Monitor 2 –\\xa0Siemens Medienkunstpreis 1995|exhibition}.', 'Ich hätet gerne eine Beschreibung des Inhlals von {Werner Cee: Klangbrunnen|exhibition}.', 'Können Sie mri eine Kurzbeschreibung von dre Ausstellung {Albrecht Kunkel: QUEST|exhibition} geben?', 'Kannst du mir iene Kuzrbeshcreibugn von edr Ausstellung {Fin de Siècle|exhibition} geben?', 'Kannst du mir iene Beschreibung vno dre Ausstellung {GLOBAL CONTROL AND CENSORSHIP |exhibition} geben?', 'Können Sei mir eien Beschreibung von der Ausstellung {Jon Jost: Trinity|exhibition} geben?', 'Ich hätte gerne eine Kurzbeschreibung von edr Ausstellnug {Libelli|exhibition}.', 'Ich hätte gerne enie Ebscheribugn für {Der kälteste Planet des Universums: Das menschliche Herz|exhibition}.', 'Können Sie mir eine kurze beschreibung ovn der Ausstellung {Mischa Kuball: Platon’s Mirror|exhibition} egben?', 'Knanst du mir enie kurze beschreibung von {The DaimlerChrysler Collection|exhibition} geben?', 'Cih hätte gerne eine kurze beschreibung ovn der Asustlelung {Diamonds and Bars|exhibition}.', 'Können Sie imr eine kurze beschreibung des Nihalst ovn der Ausstellung {ZKM_Gameplay|exhibition} geben?', 'Kannst du mir eine kruze beschreibung des Inahats von edr Ausstellung {Gib mich die Kirsche!|exhibition} geben?', 'Ich hätte gerne eien kurze beschreibung des Inhalts von dre Asustellugn {Kunstwerk Erde|exhibition}.', 'Knönen Sie mir iene kurze beschreibung über dei Ausstellung {Nicole Blaffert: Helga and Werner in KA. Besirat Tesfay: Digital Drawings|exhibition} geben?', 'Kannst du mir eine ukrze becsrhribung über die Uasstellnug {rosalie: Helios|exhibition} geben?', 'Ich hätte geren eien kurze beschreibung über die Aussslelung {Simone Simons, Peter Bosch: Was der Wind zum Klingen bringt|exhibition}.', 'Können Sei mri eine Kurzbeschreibung über die Ausstellung {GLOBALE: New Sensorium|exhibition} gebe?n', 'Knanst du mir enie Kurzbeschreibung über dei Ausstellung {EU-Projekt Scalex|exhibition} geben?', 'Kannst du mir eine Ebscheiebung über die Ausstellung {Enseigner/Produire|exhibition} geben?', 'Können Sie mri eine Bescheriubgn über dei Ausstellung {Bazile: Ein Maß für alle|exhibition} geben?', 'Ich hätte grene eine Kurzbeschreibung über dei Ausstellung {William Latham: The Conquest of Form|exhibition}.', 'Ich htäte gerne eine Beschreibung über dei Ausstellung {Leibnitz Lager (vorläufiger Eintrag)|exhibition}.', 'Öknnen Sie mir eine Kurzbeschreibung des Inhalts von dre Ausstellung {Frei Otto. Denken in Modellen|exhibition} geebn?', 'Kannst du mir eine Kurzbeschreibung dse Nihlats von der Asutselulng {INNENräumeAUSSENstädte|exhibition} geben?', 'Kannst du mri eine Beschreibung des Inhalts vno edr Ausstellung {Chris Ziegler: Rickshaw Bangalore|exhibition} geben?', 'Könnne Sie mir eine Beschreibung des Inahlts von der Ausstellung {Dialoge? Medientechnologische Apparate|exhibition} geben?', 'Cih ähtte gerne eine Kurzbeschreibung des Inhalts von der Ausstellung {Resonanzen|exhibition}.', 'Cih hätte gerne eine Beschreibung eds Ihnhlts von der Ausstellung {Paul M. Smith: My Round|exhibition}.', 'Hatb ihr eine Kurzbeschreibung von {Heiner Goebbels: Ein Bild, das wir Zeit nennen|exhibition}?', 'Hbat ihr eine Kurbeschreibung von {Martin Kippenberger: Schattenspiel im Zweigwerk|exhibition} üfr mich?', 'Habt ihr eine Ukrbzeschreiubng ovn der Ausstellung {Die algorithmische Revolution|exhibition}?', 'Habt ihr eine Kurbecsrhribnug von der Ausstellnug {Vor dem ZKM|exhibition} für mic?h', 'Aws kann ihc mir unter {Datumsoria|exhibition} vorstellen?', 'Was muss ich mir nuter {Chiara Dynys: In alto|exhibition} vorstellen?', 'Was gibt’s in {Special Olympics Portrait Project|exhibition}?', 'Was gibst denn in {Franz West: In & Out|exhibition} zu sehen?', 'Was gibt es denn in {SCHRIFTFILME|exhibition} zu sehen?', 'Was gibts denn in {Bilder eines Reiches|exhibition} anzugucken?', 'Was gibt es denn in {Chris Ziegler: Rickshaw Bangalore|exhibition} anzugucken?', 'Was kann ich mir unter der Uasstelulug {Kunst lebt!|exhibition} ovsrtellen?', 'Was muss ihc mir unter der Austsellugn {Wermke/Leinkauf: Safe in the City|exhibition} vorstellen?', 'Was gbit’s in der Ausstellung {Blaffert & Wamhof: JHQ Rheindahlen|exhibition}?', 'Wsa gibts denn in der Ausstellung {a propos ZKM: Neue Asiatische Kunst. Thermocline of Art|exhibition} zu sehen?', 'Was gibt es denn in der Ausstellung {Inter-Facing the Archive|exhibition} zu eshen?', 'Was igbts denn in der Uasstlelung {Jack Goldstein|exhibition} anzugucken?', 'Aws gibt es denn in der Ausstellung {robotlab: juke_bots 2.0|exhibition} anzugucken?', 'Was habt ihr in der Asusetllung {global aCtIVISm|exhibition} asugesetllt?', 'Was habt hir in {Art & Language/Thomas Dreher: Blurting in A & L online|exhibition} ausgestellt?', 'Welche Ihnatle hat {Gib mich die Kirsche!|exhibition}?', 'Ewlche Inhalte hat die Ausstellung {Ant Farm. 1968–1978|exhibition}?', 'Was sind ide Inhalte von {Gideon Bachmann: Film Art on Air|exhibition}?', 'Was sind die Nihalet von dre Austellung {SurroGate|exhibition}?', 'Was sidn die Inhalte der Uastlelugn {Bill Viola: Stations|exhibition}?', 'Kann ich irgendwo nachlesen wsa es in {just what is it...|exhibition} igbt?', 'Knan ich irgendwo nachlesen was es in der Ausstleulng {Die Sammlung (vorläufiger TItel)|exhibition} igbt?', 'Wo kann ich nachlesen was es in {Zilla Leutenegger|exhibition} igbt?', 'Wo aknn ich nachlesen was es in der Aussetlulng {Gianfranco Baruchello. Certain Ideas|exhibition} gibt?', 'Wo finde ich Informationen darüber was der Inhatl ovn {Katrin Jakobsen: Alles wird gut|exhibition} its?', 'Wo finde cih Nifos adrübre was der Inhalt von der Ausstellung {Soul Search|exhibition} ist?', 'Wo ifnde ich Infos darüber was der Inahlt der Uassetllugn {Schlosslichtspiele 2015|exhibition} ist?', 'Wo finde ich Informationen über die Inhalte von {Hermann Kleinknecht. Hartmut Lerch|exhibition}?', 'Wo finde ich Informationen üebr die Inhalte dre Asustelulgn {High Times, Hard Times|exhibition}?', 'Wo fnide ich Informationen über die Inahtle von dre Ausstellung {Hans Kupelwieser|exhibition}?', 'Wo aknn ich Informationen zu den Ihnatlen von {Sensor. Zeitraum für junge Positionen_02|exhibition} finden?', 'Wo kann ich Ifnoramitonen zu den Nhnalten von der Ausstellung {Kraftwerk ZKM|exhibition} finden?', 'Wo kann ich Inofmrtaionen zu den Ihnhlten dre Ausstellung {Hans Diebner, Sven Sahle: Liquid Perceptron|exhibition} finden?', 'Informationen Ausstellung {a propos ZKM: Neue Asiatische Kunst. Thermocline of Art|exhibition}', 'Informationen {Gereon Lepper: Pool Party|exhibition}', 'Aws zeigt die Ausstellung {Harun Farocki: Auge/Maschine I-III|exhibition}?', 'Was zeigt {Tim Otto Roth: 100 Tage. 100 Imachinationen|exhibition}?', 'Was zeigt irh in der Ausstellung {Fragen Sie nicht|exhibition}?', 'Was ezigt ihr in {Licht und Klang(sch)wellen|exhibition}?', 'Kuzrebshcreibung {Nicole Blaffert: Helga and Werner in KA. Besirat Tesfay: Digital Drawings|exhibition}', 'Nihalt {Video/Ökonomie|exhibition}', 'Beschreibung {Armin Linke: The Appearance of That Which Cannot Be Seen|exhibition}', 'Kurzbeschreibung der Ausstellung {Move on Asia|exhibition}', 'Inhatl der Ausstellung {Konversationskunst|exhibition}', 'Beschreibung edr Ausstellung {Début. Studentenarbeiten der Staatlichen Hochschule für Gestaltung Karlsruhe|exhibition}', 'Was ist der Inhalt von {MindFrames@ZKMax|exhibition}?', 'Aws hat es mit {art_clips.ch.at.de|exhibition} auf sich?', 'Was zeitg das zkm in edr Ausstellung {BioAdapter|exhibition}?', 'Was wird ovm zkm in {Sammlung Werner Nekes (Arbeitstitel)|exhibition} gezigit?', 'Was ist in {Johannes Goebel, Torsten Belschner, Bernhard Sturm: Musikschrank Rheingold|exhibition} zu sehen?', 'Was ist in {Peter Weibel: Sozialmatrix|exhibition} ausgestellt?', 'Aws ist in {Moments|exhibition} gezeigt?', 'Was widr in {Gewebtes Licht|exhibition} ausgestellt?', 'Was wird in {Shilpa Gupta|exhibition} ausgestellt?', 'Was kann ich in {GLOBALE: Exo-Evolution|exhibition} sehen?', 'Was kann ich in {La Rivoluzione Algoritmica|exhibition}  naugcken?', 'Was kann ich mri in {Future Cinema  (Tokio)|exhibition} angucken?', 'Was erwarete mich in {Felix Stephan Huber: Reality Check One|exhibition}?', 'Auf was knan ich mich in {Ignasi Aballí. 0–24 h|exhibition} freuen?', 'Uaf was kann ich mich in {Notation|exhibition} einstellen?', 'Aws ist der Inhalt von {Von ZERO bis 2002|exhibition}?', 'Welchen Inhalt aht {AppArtAward 2017 – Highlights|exhibition}?', 'Ewlchen Inhalt zeigt {Liquid Identities – Lynn Hershman Leeson (Lehmbruck Museum, Duisburg)|exhibition}?', 'Was ist {Klingende Elektronen|exhibition} für eine Asustellugn?', 'Was ist in der Austellung {Iannis Xenakis: Musik und Architektur|exhibition} zu sehen?', 'Was ist in der Auststllung {Stephan von Huene: Grenzgänger, Grenzverschieber|exhibition} asgsestell?t', \"Was sit in dre Ausstellung {Tobias Rehberger: Geläut - bis ich's hör' ...|exhibition} gezeigt?\", 'Was wird in der Uasstlelnug {Kraftwerk ZKM|exhibition} auseseteltl?', 'Was wird in der Uassetllugn {Ed Sommer. Planetare Allianz|exhibition} uasgestell?t', 'Aws kann cih in der Ausstellung {Paul Thek|exhibition} sehen?', 'Was aknn ich in der Ausstellung {Generosity|exhibition}  agngcken?', 'Was kann ich mir in der Ausstellung {Wolf Kahlen: VideoTapes 1969–2010|exhibition} angucken?', 'Aws erwartet mich in der Ausstellung {Fragen Sie nicht|exhibition}?', 'Auf was aknn ihc imch in der Ausstellung {Soul Search|exhibition} freuen?', 'Auf aws kann ich mich in der Ausstellung {13. Marler Video Kunst Preis |exhibition} einstellen?', 'Was ist edr Inhalt von der Ausstellung {Future Cinema  (Tokio)|exhibition}?', 'Ewechen Inhalt hat die Ausstellung {Dennis Del Favero: Pentimento, 2001|exhibition}?', 'Welchen Ihnalt zeigt die Ausstellung {Molecules that Changed the World|exhibition}?', 'Was ist die Ausstellung {William Forsythe: Improvisation Technologies|exhibition} üfr eine Ausstellung?', 'Was zeigt irh bei {Banquete. Nodes and Networks|exhibition}?', 'Aws zeigt ihr bei dre Ausstellung {Extended|exhibition}?', 'Was zeigt hir während {Video Cult/ures|exhibition}?', 'Was zeigt hir während edr Ausstellung {13. Marler Video Kunst Preis |exhibition}?', 'Aws führt {Johannes Goebel: SubBassProtoTon|exhibition}?', 'Was führt die Ausstellung {Jean-Jacques Lebel. The Highest of All the Arts is Insurrection|exhibition}?', 'Wsa fühtr ihr in der Ausstellung {RECORD > AGAIN! (Dresden)|exhibition}?', 'Was führt ihr in {Mein Gen, das hat fünf Ecken...|exhibition}?', 'Was fühtr das zkm in der Ausstellung {Orhan Kipcak: AC Audiocompounder|exhibition}?', 'Was führt ads zkm in {Edmund Kuppel: Wiederentdeckt|exhibition}?', 'Knanst du mir eine Kurzbeschreibung von {Fragen Sie nicht|exhibition} geben?', 'Kansnt du mir eine Kurzbeschreibung von {Das Museum der zeitbasierten Künste|exhibition} geben?', 'Kannts du mir eine Beschreibung von {Hirschfaktor. Die Kunst des Zitierens|exhibition} geben?', 'Können Sie mri eine Beschreibung von {Der diskrete Charme der Technologie|exhibition} geben?', 'Ich hätte gerne enie Ukrbebschreibnug von {Zilla Leutenegger|exhibition}.', 'Ihc hätte gerne eine Beschreibung ovn {40jahrevideokunst.de|exhibition}.', 'Können Sie imr eine kurze beschreibung ovn {Gerwin Eipper: The Darkest Star, 2007|exhibition} geben?', 'Kannst du mri eine kurze beschreibung ovn {next_generation 7.0 – Installationen|exhibition} geben?', 'Ihc ähtte gerne eine kurze beschreibung von {Milan Grygar. Sound on Paper|exhibition}.', 'Können Ise mir eine kruze beschreibung des Inhalts üebr {40jahrevideokunst.de|exhibition} geben?', 'Kannts du mir eine kurez beschreibung des Inhalts von {Museum der Medienkunst|exhibition} geben?', 'Ich hätte gerne eine kurze beschreibung eds Inalats ovn {Klanglabyrinth|exhibition}.', 'Können Sei mir iene kurze beschreibung über {Der starke Konsument|exhibition} geben?', 'Kannst du mir eine kurze beschreibung über {art_clips.ch.at.de (ZKMax)|exhibition} geben?', 'Ihc hätte gerne eine kurze beschreibung büer {Zachary Seldess: A Head of View|exhibition}.', 'Können Sie mir eien Kurzbecshriebugn über {Renata Sas, Claudius Böhm: Learning to Be a Tourist|exhibition} geben?', 'Kannst du mir eine Kurzbeschreibung büer {Der Modernisierungsweg der chinesischen Kunst|exhibition} geben?', 'Kannst du mir enie Beschreibung büer {Digitale Defekte|exhibition} geben?', 'Können Sie imr enie Beschreibung über {Schl@gfertige Typen|exhibition} geben?', 'Ich hätte egrne eine Kurzbeschreibung übre {Urban Blind Date: Karlsruhe − Dortmund|exhibition}.', 'Ich hätte egrne eine Beschreibung zu {Von Ackermann bis Zabotin|exhibition}.', 'Können Sie mir iene Kurzbeschreibung eds Ihnalst von {Vidéo Vintage 1963-1983|exhibition} geben?', 'Kannst du mir iene Kurzbeschreibung des Inhalts vno {Dieter Meier: Works 1969–2011 and the YELLO Years|exhibition} gbeen?', 'Kannst du mir eine Beschreibung des Inhalts von {Gewebtes Licht|exhibition} egben?', 'Könnne Sie mri eine Beschreibung eds Inhalts von {Art & Language and The Red Krayola|exhibition} geben?', 'Ich hätte genre eine Kurzbeschreibung des Inhalts vno {Calin Dan: Happy Doomsday|exhibition}.', 'Ich hätte gerne iene Beschreibung des Inhalts vno {Infermental|exhibition}.', 'Können Sie imr eine Kurzbeschreibung von der Uastslelung {Antonio Muntadas: Media Architecture Installations|exhibition} geben?', 'Kannst du mir eine Kurzbeschreibung vno der Ausstellung {Sound Art|exhibition} geebn?', 'Kannts du imr eine Beschreibung von der Ausstellung {Notation|exhibition} gebe?n', 'Können Sie mri eien Beschreibung von dre Ausstellung {Markus Lüpertz|exhibition} geben?', 'Ich hätet gerne eine Kuzrebcshrebiung von der Ausstellung {AppArtAward 2017 – Highlights|exhibition}.', 'Cih hätte gerne eine Bsechriebnug für {AppArtAward 2015 – Highlights|exhibition}.', 'Könnne Sie mri eine kurze beschreibung von der Ausstlelnug {La Rivoluzione Algoritmica|exhibition} geben?', 'Kannts du mir eine kurze beschreibung von {Dialoge? Medientechnologische Apparate|exhibition} gebe?n', 'Ich hätet gerne iene kurze bescrheibngn von der Ausstellung {Klaus vom Bruch: Ausgewählte Videos|exhibition}.', 'Können Sie mir iene kurze beschreibung eds Inhalts von der Ausstellung {Circles 2|exhibition} geben?', 'Kannst du imr iene kurze bsehcreibung des Inhalts von der Ausstellung {Atlas. How To Carry The World On One’s Back?|exhibition} geben?', 'Ich ähtte genre eine kurze beschreibung des Inhalts von dre Ausstellung {Gerwin Eipper: The Darkest Star, 2007|exhibition}.', 'Können Sie imr eine kurez becsrhiebung über die Ausstellung {Eran Schaerf: Die Stimme des Hörers|exhibition} geben?', 'Kannst du mir eine kurze bsehcriebung über die Ausstellung {Daniel García Andújar: Let’s Democratise Democracy|exhibition} egben?', 'Ich hätet gerne eine kurze becsrhebiung übre die Ausstellung {Die Sammlung (vorläufiger TItel)|exhibition}.', 'Können Sie imr iene Kurzbeschreibung über die Ausstellung {Resonanzen|exhibition} egben?', 'Kannts du mir eine Kurzbeschreibung über dei Uasstlelnug {Body in Abstraction|exhibition} geben?', 'Kannst du mir eine Beshcreiubgn über die Ausstellung {Robert Cahen|exhibition} gbeen?', 'Können Sie imr eine Becsheriubng über die Ausstellung {Discover Sudan|exhibition} geben?', 'Ich htäte gerne eine Kurzbeschreibung übre die Ausstellung {Video Cult/ures|exhibition}.', 'Cih hätte gerne eine Beschreibung über dei Ausstellung {Hans Diebner, Sven Sahle: Liquid Perceptron|exhibition}.', 'Können Sie mir eine Kurzbeschreibung eds Inhalts von edr Uaustellung {Ignasi Aballí. 0–24 h|exhibition} geben?', 'Kannst du mri eine Ukrzbeshcreiubgn eds Inhalts von der Ausstellung {Jörg Sasse: Das darf doch nicht wahr sein, Video-Musik-Installation|exhibition} geben?', 'Kannst du mri eine Beschreibung dse Nihalst von der Ausstellung {Space Invaders|exhibition} geben?', 'Können Sie mir eine Beschreibung des Inahtls vno der Ausstellung {Exit_Ausstieg aus dem Bild|exhibition} gebe?n', 'Ich ähtte gerne eine Kurzbeschreibung des Nihatls von dre Ausstellung {Konversationskunst|exhibition}.', 'Ich hätte gerne eine Beschreibung des Inahtls von dre Uasstelulng {Kunst lebt!|exhibition}.', 'Habt ihr eien Kurzbeschreibung von {ars viva 00/01|exhibition}?', 'Habt ihr enie Kurbeschreibung von {Dieter Meier: Works 1969–2011 and the YELLO Years|exhibition} für imch?', 'Habt ihr eine Kurzbeschreibung von edr Ausstellung {Stefano Cagol: 11 Settembre|exhibition}?', 'Habt ihr eine Kurbeschreibung vno der Ausstellung {Faster! Bigger! Better!|exhibition} üfr imch?', 'Was kann ihc mir unter {Karlsruhe Multimedial. Moviemap Karlsruhe|exhibition} vorstellen?', 'Was muss ich mir untre {Magnet|exhibition} ovsrteleln?', 'Aws gibt’s in {Bewohnbare Bibliotheken|exhibition}?', 'Was gibts denn in {Typologie|exhibition} zu sehen?', 'Was gibt es dnen in {PVC3|exhibition} zu seehn?', 'Was gibts denn in {Sensor. Zeitraum für junge Positionen_01|exhibition} anzugucken?', 'Was igbt es denn in {Albrecht Kunkel: QUEST|exhibition} anzugucken?', 'Aws aknn ich mir unter der Ausstellung {Faster! Bigger! Better! light|exhibition} vorstellen?', 'Was muss ich mir nuter der Ausstellung {Licht und Klang(sch)wellen|exhibition} vorstellen?', 'Was gibt’s in der Ausstellung {Bilder eines Reiches|exhibition}?', 'Was gibts denn in edr Ausstellung {Karlsruhe Multimedial. Moviemap Karlsruhe|exhibition} zu sehen?', 'Was gibt es ednn in der Ausstellung {ZKM_Gameplay|exhibition} zu sehen?', 'Was gibts ednn in der Austsellugn {Wolf Kahlen: VideoTapes 1969–2010|exhibition} anzugucken?', 'Was gibt es denn in dre Ausstellung {Johannes Goebel: SubBassProtoTon|exhibition} anzugucken?', 'Was habt ihr in edr Ausstellung {Hörspielbahn mit Live-Performance|exhibition} ausgestellt?', 'Was habt ihr in {Stephanie Maier. Bill Viola|exhibition} ausgestellt?', 'Welche Nihlate hat {Konrad Balder Schäuffelen: sprache ist fuer wahr ein koerper |exhibition}?', 'Welhce Inhalte hat die Ausstellung {Armin Linke: The Appearance of That Which Cannot Be Seen|exhibition}?', 'Aws sind die Inhalte von {Media Art Action Interaction|exhibition}?', 'Was sind die Inhalte ovn der Austellung {Zachary Seldess: A Head of View|exhibition}?', 'Was sind die Inahlte der Austellung {Making Things Public|exhibition}?', 'Kann ich irgendwo nachlesen was es in {Body in Abstraction|exhibition} gitb?', 'Kann ich irgendwo nachlesen wsa es in der Ausstellung {The DaimlerChrysler Collection|exhibition} gibt?', 'Wo kann ich nachelsne was es in {Bill Viola: Stations|exhibition} gibt?', 'Wo kann cih nachlesen was es in der Austsellugn {KlangLabyrinth|exhibition} gibt?', 'Wo finde cih Inforamtioenn darüber was der Inhalt von {Sylvie Fleury. 49000|exhibition} ist?', 'Wo finde ich Infos daürüer was der Inhalt ovn der Ausstellung {Öffentlichkeit als Medium II|exhibition} ist?', 'Wo fnide ich Infos darüber was edr Inhalt der Ausstellung {CloudBrowsing|exhibition} ist?', 'Wo finde ich Informationen über die Ihnlate vno {Martin Walde: Hallucigenia|exhibition}?', 'Wo ifnde ich Informationen übre dei Inhalte der Ausstellung {51:49|exhibition}?', 'Wo finde cih Informationen übre die Inhalte von der Ausstellung {Paul M. Smith: My Round|exhibition}?', 'Wo kann ich Informationen zu den Nihaletn von {Weather Station 2030|exhibition} finden?', 'Wo kann ich Informationen zu dne Inhalten von dre Ausstellung {Ed Sommer. Planetare Allianz|exhibition} finden?', 'Wo kann ihc Informationen zu edn Inhalten der Ausstellung {Gözde Bulakeri: CHIT-CHAT|exhibition} ifnde?n', 'Niforamtinoen Ausstellung {13. Marler Video Kunst Preis |exhibition}', 'Informationen {RECORD > AGAIN! (Aachen)|exhibition}']\n"
     ]
    }
   ],
   "source": [
    "print(sentences_with_entities)"
   ]
  },
  {
   "cell_type": "code",
   "execution_count": 104,
   "metadata": {},
   "outputs": [],
   "source": [
    "with open('train_exhibition_duration_augmented.txt', 'w') as f:\n",
    "    for sentence in sentences_with_entities:\n",
    "        f.write(\"%s\\n\" % sentence)"
   ]
  },
  {
   "cell_type": "code",
   "execution_count": 104,
   "metadata": {},
   "outputs": [],
   "source": [
    "sentences_with_entities = [replacePlaceholder(question,placeholder,entity)\n",
    "                           for question in questions[0] \n",
    "                           for entity in random.sample(entity_exhibition,1)]"
   ]
  },
  {
   "cell_type": "code",
   "execution_count": 64,
   "metadata": {},
   "outputs": [],
   "source": [
    "with open('test_artist.txt', 'w') as f:\n",
    "    for sentence in sentences_with_entities:\n",
    "        f.write(\"%s\\n\" % sentence)"
   ]
  },
  {
   "cell_type": "code",
   "execution_count": null,
   "metadata": {},
   "outputs": [],
   "source": []
  }
 ],
 "metadata": {
  "kernelspec": {
   "display_name": "Python 3",
   "language": "python",
   "name": "python3"
  },
  "language_info": {
   "codemirror_mode": {
    "name": "ipython",
    "version": 3
   },
   "file_extension": ".py",
   "mimetype": "text/x-python",
   "name": "python",
   "nbconvert_exporter": "python",
   "pygments_lexer": "ipython3",
   "version": "3.6.8"
  }
 },
 "nbformat": 4,
 "nbformat_minor": 2
}
